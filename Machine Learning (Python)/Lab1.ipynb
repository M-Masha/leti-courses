{
 "cells": [
  {
   "cell_type": "markdown",
   "id": "733dd929-de0d-4009-a291-0de99bddf101",
   "metadata": {},
   "source": [
    "---\n",
    "### Подготовка\n",
    "\n",
    "Импорт библиотек (в практике из учебника *O'Reilly \"Введение в машинное обучение с помощью Python\"*)"
   ]
  },
  {
   "cell_type": "code",
   "execution_count": 1,
   "id": "014fa930-d9e0-4a7f-9c1f-c062d8e6b312",
   "metadata": {},
   "outputs": [],
   "source": [
    "import statistics as stat\n",
    "import numpy as np\n",
    "import matplotlib.pyplot as plt\n",
    "%matplotlib inline\n",
    "import pandas as pd\n",
    "from IPython.display import display\n",
    "plt.rc('font', family='Verdana')"
   ]
  },
  {
   "cell_type": "markdown",
   "id": "8044cf31-d1de-42ce-96e6-4e6a465d5198",
   "metadata": {},
   "source": [
    "<br />\n",
    "Подготовка данных из задания"
   ]
  },
  {
   "cell_type": "code",
   "execution_count": 2,
   "id": "1aa0db0f-cce8-4546-9cb6-ac4746ade5b7",
   "metadata": {
    "tags": []
   },
   "outputs": [],
   "source": [
    "x = [56, 43, 74, 64, 136, 64, -14, 74, 45, 71, 54, 19, 4, 50, 2, 69, 89, 47, 41, 54]\n",
    "xnp = np.array(x)\n",
    "y = [238, 129, 180, 205, 245, 177, 81, 128, 192, 160, 197, 181, 181, 181, 217, 136, 158, 298, 205, 146]\n",
    "ynp = np.array(y)"
   ]
  },
  {
   "cell_type": "markdown",
   "id": "e2f0928a-49c5-4224-b5a6-2b5ea62277f8",
   "metadata": {},
   "source": [
    "### Задание №1 \n",
    "\n",
    "**А**. Найти среднее, медиану и моду величины X.<br /><br />\n",
    "Среднее находится путём сложения значений и деления на их количество<br />\n",
    "Медиана - середина упорядоченного набора<br />\n",
    "Мода - наиболее часто встречающееся значение"
   ]
  },
  {
   "cell_type": "code",
   "execution_count": 3,
   "id": "eb194f13-8cb4-4cf5-8210-9e5fae4afa41",
   "metadata": {
    "tags": []
   },
   "outputs": [
    {
     "name": "stdout",
     "output_type": "stream",
     "text": [
      "52.1 \n",
      " 54.0 \n",
      " [74, 64, 54]\n"
     ]
    }
   ],
   "source": [
    "MeanX = np.mean(xnp)\n",
    "MedianX = np.median(xnp)\n",
    "ModeX = stat.multimode(xnp)\n",
    "print(MeanX, '\\n', MedianX, '\\n', ModeX)"
   ]
  },
  {
   "cell_type": "markdown",
   "id": "e535a8a5-0906-49b2-8fca-9f40614b054c",
   "metadata": {},
   "source": [
    "<br />\n",
    "\n",
    "**B**. Найти дисперсию Y.<br /><br />\n",
    "\n",
    "$s^2=\\frac{1}{n-1}\\sum_{i=1}^{n}(x_i-\\overline x)^2$"
   ]
  },
  {
   "cell_type": "code",
   "execution_count": 4,
   "id": "a1d7b605-63ad-457b-b465-d1a0bbd88f82",
   "metadata": {},
   "outputs": [
    {
     "data": {
      "text/plain": [
       "2294.6184210526317"
      ]
     },
     "execution_count": 4,
     "metadata": {},
     "output_type": "execute_result"
    }
   ],
   "source": [
    "VarY = np.var(ynp, ddof=1)\n",
    "VarY"
   ]
  },
  {
   "cell_type": "markdown",
   "id": "2ee43162-4000-4677-a14d-91815965aa56",
   "metadata": {},
   "source": [
    "<br />\n",
    "\n",
    "**C**. Построить график нормального распределения для Х.<br /><br />\n",
    "\n",
    "$f(x) = \\frac{1}{\\sqrt{2\\pi \\sigma}}\\exp\\left[-\\frac{(x-\\mu)^2}{2\\sigma^2}\\right]$"
   ]
  },
  {
   "cell_type": "code",
   "execution_count": 5,
   "id": "c1129f1a-6409-429a-bef3-603b76e4563a",
   "metadata": {},
   "outputs": [
    {
     "data": {
      "image/png": "[encoded data removed]",
      "text/plain": [
       "<Figure size 640x480 with 1 Axes>"
      ]
     },
     "metadata": {},
     "output_type": "display_data"
    }
   ],
   "source": [
    "VarX = np.var(xnp)\n",
    "SkoX = np.sqrt(VarX)\n",
    "\n",
    "Ox = np.linspace(MeanX-100, MeanX+100, 100) \n",
    "Oy = (1 / (SkoX * np.sqrt(2 * np.pi))) * np.exp(-((Ox - MeanX) **2) / (2 * VarX))\n",
    "\n",
    "plt.hist(xnp, len(xnp), density = True) \n",
    "plt.plot(Ox, Oy)\n",
    "\n",
    "plt.show()"
   ]
  },
  {
   "cell_type": "markdown",
   "id": "72cbecc4-253d-4b92-8357-c2479919cc15",
   "metadata": {},
   "source": [
    "<br />\n",
    "\n",
    "**D**. Найти вероятность того, что возраст больше 57.<br /><br />"
   ]
  },
  {
   "cell_type": "code",
   "execution_count": 6,
   "id": "704e131e-f2e7-4c42-bf19-5d4aa1b05f63",
   "metadata": {},
   "outputs": [
    {
     "data": {
      "text/plain": [
       "0.4"
      ]
     },
     "execution_count": 6,
     "metadata": {},
     "output_type": "execute_result"
    }
   ],
   "source": [
    "x_sorted = np.sort(x)\n",
    "p = 0\n",
    "for i in x_sorted:\n",
    "    if i <= 57:\n",
    "        p+=1\n",
    "    else:\n",
    "        break\n",
    "p = len(x) - p\n",
    "P = p / len(x)\n",
    "P"
   ]
  },
  {
   "cell_type": "markdown",
   "id": "b6bf5895-798c-436c-81ec-22ee984fabd8",
   "metadata": {},
   "source": [
    "<br />\n",
    "\n",
    "**E**. Найти двумерное мат. ожидания и ковариационную матрицу для этих двух величин.<br /><br />\n",
    "\n",
    "Мат. ожидание в этом контексте - оно же среднее. <br />\n",
    "Ковариация - $cov_{x,y}=\\frac{\\sum_{i=1}^{N}(x_{i}-\\bar{x})(y_{i}-\\bar{y})}{N-1}$"
   ]
  },
  {
   "cell_type": "code",
   "execution_count": 7,
   "id": "4240d22c-5fcc-462a-8477-a07e7238a53c",
   "metadata": {},
   "outputs": [
    {
     "name": "stdout",
     "output_type": "stream",
     "text": [
      "[[ 52.1 ]\n",
      " [181.75]] \n",
      "\n",
      "[[1044.19    347.175 ]\n",
      " [ 347.175  2179.8875]]\n"
     ]
    }
   ],
   "source": [
    "MeanY = np.mean(ynp)\n",
    "MeanXY = np.array([[MeanX], \n",
    "                   [MeanY]])\n",
    "print(MeanXY, '\\n')\n",
    "\n",
    "Cov = np.cov(xnp, ynp, ddof=0)\n",
    "print(Cov)"
   ]
  },
  {
   "cell_type": "markdown",
   "id": "67535289-e05b-44fa-b833-33ce32301ad2",
   "metadata": {},
   "source": [
    "<br />\n",
    "\n",
    "**F**. Определить корреляцию между X и Y.<br /><br />\n",
    "\n",
    "$\\rho = \\frac{\\text{cov}(X,Y)}{\\sigma_x \\sigma_y}$"
   ]
  },
  {
   "cell_type": "code",
   "execution_count": 8,
   "id": "a112dc65-deef-4384-b01d-32e9e0c9caf0",
   "metadata": {},
   "outputs": [
    {
     "name": "stdout",
     "output_type": "stream",
     "text": [
      "0.23011325665966453\n"
     ]
    }
   ],
   "source": [
    "Cor = stat.correlation(x, y)\n",
    "print(Cor)"
   ]
  },
  {
   "cell_type": "markdown",
   "id": "2165125f-5b5e-4e38-835a-9da212b7b600",
   "metadata": {},
   "source": [
    "<br />\n",
    "\n",
    "**G**. Построить диаграмму рассеяния, отображающую зависимость между возрастом и ростом.<br /><br />\n"
   ]
  },
  {
   "cell_type": "code",
   "execution_count": 9,
   "id": "e71d044d-0bf1-414a-8f77-cfe2afde1ca5",
   "metadata": {},
   "outputs": [
    {
     "data": {
      "image/png": "[encoded data removed]",
      "text/plain": [
       "<Figure size 640x480 with 1 Axes>"
      ]
     },
     "metadata": {},
     "output_type": "display_data"
    }
   ],
   "source": [
    "plt.scatter(x, y)\n",
    "plt.xlabel('Age')\n",
    "plt.ylabel('Height')\n",
    "plt.grid()"
   ]
  },
  {
   "cell_type": "markdown",
   "id": "d7210879-0f94-4d3a-8d04-976d617f23c9",
   "metadata": {},
   "source": [
    "### Задание №2\n",
    "\n",
    "Рассчитать ковариационную матрицу и \n",
    "обобщенную дисперсию для набора данных"
   ]
  },
  {
   "cell_type": "code",
   "execution_count": 10,
   "id": "1a0e6976-175c-4ecd-9950-f04101dab8b4",
   "metadata": {},
   "outputs": [],
   "source": [
    "dataset = [[15, 2, 41],\n",
    "       [41, 27, -47],\n",
    "       [4, 2, 1]]"
   ]
  },
  {
   "cell_type": "code",
   "execution_count": 11,
   "id": "7d45e0d8-d422-41c5-9369-dddd3600f57f",
   "metadata": {},
   "outputs": [
    {
     "name": "stdout",
     "output_type": "stream",
     "text": [
      "[[ 262.89 -554.67  -10.11]\n",
      " [-554.67 1490.67   40.67]\n",
      " [ -10.11   40.67    1.56]] \n",
      "\n",
      "322.5526740000019\n"
     ]
    }
   ],
   "source": [
    "CovDS = np.cov(dataset, ddof=0)\n",
    "\n",
    "for i in range(0, len(CovDS)):\n",
    "    for j in range(0, len(CovDS[1])):\n",
    "        CovDS[i][j] = float('{:.2f}'.format(CovDS[i][j]))\n",
    "\n",
    "print(CovDS, '\\n')\n",
    "\n",
    "VarDS = np.linalg.det(CovDS)\n",
    "print(VarDS)"
   ]
  },
  {
   "cell_type": "markdown",
   "id": "b43c5710-e61a-4061-9b3f-fdeecd933eff",
   "metadata": {},
   "source": [
    "### Задание №3 \n",
    "\n",
    "Даны два одномерных нормальных распределения N<sub>a</sub>\n",
    "и N<sub>b</sub> с мат. ожиданиями 5, 4 и\n",
    "СКО 1, 5 соответственно. <br /><br />\n",
    "**А**. Для каждого из значений *{2, 7, 10}* определите, \n",
    "    какое из распределений сгенерировало значение с \n",
    "    большей вероятностью.\n",
    " "
   ]
  },
  {
   "cell_type": "code",
   "execution_count": 12,
   "id": "c1c058b3-379e-44c7-a09c-9a189b1fc7ca",
   "metadata": {},
   "outputs": [
    {
     "name": "stdout",
     "output_type": "stream",
     "text": [
      "А сгенерировало 2 с вероятностью = 0.00443\n",
      "B сгенерировало 2 c вероятностью = 0.07365\n",
      "Выше вероятность у распределения B \n",
      "\n",
      "А сгенерировало 7 с вероятностью = 0.05399\n",
      "B сгенерировало 7 c вероятностью = 0.06664\n",
      "Выше вероятность у распределения B \n",
      "\n",
      "А сгенерировало 10 с вероятностью = 0.0\n",
      "B сгенерировало 10 c вероятностью = 0.03884\n",
      "Выше вероятность у распределения B \n",
      "\n"
     ]
    }
   ],
   "source": [
    "MXa = 5\n",
    "MXb = 4\n",
    "SKOa = 1\n",
    "SKOb = 5\n",
    "dataset = [2, 7, 10]\n",
    "\n",
    "distA = stat.NormalDist(MXa, SKOa)\n",
    "distB = stat.NormalDist(MXb, SKOb)\n",
    "\n",
    "PROBa = []\n",
    "PROBb = []\n",
    "\n",
    "for i in dataset:\n",
    "    PROBa.append(distA.pdf(i))\n",
    "    PROBb.append(distB.pdf(i))\n",
    "\n",
    "count = 0\n",
    "while count<3:\n",
    "    print('А сгенерировало', dataset[count], 'с вероятностью =', np.round(PROBa[count], 5))\n",
    "    print('B сгенерировало', dataset[count], 'c вероятностью =', np.round(PROBb[count], 5))\n",
    "    print('Выше вероятность у распределения', 'A' if PROBa[count] > PROBb[count] else 'B', '\\n')\n",
    "    count += 1"
   ]
  },
  {
   "cell_type": "markdown",
   "id": "8ca1e8ff-7aab-490c-a48d-9ace8a63faac",
   "metadata": {},
   "source": [
    "<br />\n",
    "\n",
    "**B**. Найдите значение, которой могло быть сгенерировано обеими распределениями с равной вероятностью.<br /><br />\n",
    "\n",
    "Нормальное распределение: <br />\n",
    "$f(x) = \\frac{1}{\\sqrt{2\\pi \\sigma}}\\exp\\left[-\\frac{(x-\\mu)^2}{2\\sigma^2}\\right]$"
   ]
  },
  {
   "cell_type": "code",
   "execution_count": 13,
   "id": "c88a69df-2585-475f-a74d-645a57594c22",
   "metadata": {},
   "outputs": [
    {
     "name": "stdout",
     "output_type": "stream",
     "text": [
      "1.9990234375 \n",
      " 3.198974609375\n"
     ]
    }
   ],
   "source": [
    "def f(a, b, n):\n",
    "    ce = (a + b)/2\n",
    "    while(abs(b - a) > 2*n):\n",
    "        if((distA.pdf(ce) - distB.pdf(ce))*(distA.pdf(a) - distB.pdf(a)) > 0):\n",
    "            a = ce;\n",
    "        else:\n",
    "            b = ce;\n",
    "        ce = (a + b) / 2;\n",
    "    return ce;\n",
    "\n",
    "print(f(0, 2, 1e-3), '\\n' ,f(2, 8, 1e-3))"
   ]
  },
  {
   "cell_type": "markdown",
   "id": "6c73ba8d-51f7-4dad-adcf-f08da82b3309",
   "metadata": {},
   "source": [
    "---\n",
    "### Вывод\n",
    "\n",
    "В процессе выполнения практической работы были получены навыки использования библиотек Python, среды Jupyter Notebook и языка разметки Markdown (и TeX) для базовой обработки данных, их анализа и визуализации. Изучены методы numpy, pandas и statistics для решения задач случайных величин, методы matplotlib для работы с графиками."
   ]
  }
 ],
 "metadata": {
  "kernelspec": {
   "display_name": "Python 3 (ipykernel)",
   "language": "python",
   "name": "python3"
  },
  "language_info": {
   "codemirror_mode": {
    "name": "ipython",
    "version": 3
   },
   "file_extension": ".py",
   "mimetype": "text/x-python",
   "name": "python",
   "nbconvert_exporter": "python",
   "pygments_lexer": "ipython3",
   "version": "3.10.7"
  }
 },
 "nbformat": 4,
 "nbformat_minor": 5
}
